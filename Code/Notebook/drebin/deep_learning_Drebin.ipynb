{
  "nbformat": 4,
  "nbformat_minor": 0,
  "metadata": {
    "kernelspec": {
      "display_name": "Python 3",
      "language": "python",
      "name": "python3"
    },
    "language_info": {
      "codemirror_mode": {
        "name": "ipython",
        "version": 3
      },
      "file_extension": ".py",
      "mimetype": "text/x-python",
      "name": "python",
      "nbconvert_exporter": "python",
      "pygments_lexer": "ipython3",
      "version": "3.6.9"
    },
    "colab": {
      "name": "deep_learning_Drebin.ipynb",
      "provenance": [],
      "collapsed_sections": []
    }
  },
  "cells": [
    {
      "cell_type": "markdown",
      "metadata": {
        "id": "lI1ntwpp0wFF"
      },
      "source": [
        "Ce notebook est une tentative d'implémentation de deep learning sur la base de données de Drebin.\n",
        "\n",
        "Les fichiers et le code ci-dessous est basé sur le cours à option de Machine Learning de l'HEIG-VD. Cette école en est la propriétaire et une autorisation d'utilisation m'a été accordée\n",
        "\n",
        "k_fold_cross_validation.py\n",
        "mlp_backprop_momentum.py"
      ]
    },
    {
      "cell_type": "code",
      "metadata": {
        "id": "3gLctwWPYLdI"
      },
      "source": [
        "PATH = 'feature_vectors_data.csv'"
      ],
      "execution_count": null,
      "outputs": []
    },
    {
      "cell_type": "code",
      "metadata": {
        "id": "fy3Uwtt1YLdI"
      },
      "source": [
        "def getData(path,n):\n",
        "    '''\n",
        "    :param path: Path to the file\n",
        "    :param n : Number of rows to return\n",
        "    :return: The DataFrame of size n\n",
        "    '''\n",
        "    training_data = pd.read_csv('feature_vectors_data.csv')\n",
        "\n",
        "    df_majority = training_data[training_data.output == 0]\n",
        "    df_minority = training_data[training_data.output == 1]\n",
        "    df_majority_downsampled = resample(df_majority,replace=False,n_samples=len(df_minority),random_state=123)\n",
        "    df_downsampled = pd.concat([df_majority_downsampled,df_minority])\n",
        "    df = df_downsampled.reindex(np.random.permutation(df_downsampled.index))\n",
        "\n",
        "    return df[:n]"
      ],
      "execution_count": null,
      "outputs": []
    },
    {
      "cell_type": "code",
      "metadata": {
        "colab": {
          "base_uri": "https://localhost:8080/"
        },
        "id": "5UVezaE7YLdJ",
        "outputId": "f07db477-7a10-4c56-85a6-018a75bce3f3"
      },
      "source": [
        "print(getData(PATH,200))"
      ],
      "execution_count": null,
      "outputs": [
        {
          "output_type": "stream",
          "text": [
            "       Unnamed: 0  ... output\n",
            "38901       38901  ...      0\n",
            "11110       11110  ...      0\n",
            "3565         3565  ...      0\n",
            "40548       40548  ...      0\n",
            "14425       14425  ...      0\n",
            "...           ...  ...    ...\n",
            "23953       23953  ...      0\n",
            "4806         4806  ...      1\n",
            "8579         8579  ...      0\n",
            "17895       17895  ...      0\n",
            "42204       42204  ...      1\n",
            "\n",
            "[200 rows x 11 columns]\n"
          ],
          "name": "stdout"
        }
      ]
    },
    {
      "cell_type": "code",
      "metadata": {
        "id": "Gq06ad7xYLdK"
      },
      "source": [
        "#We want to create a dataframe \n",
        "df = getData(PATH,200)\n",
        "label_encoder = LabelEncoder()\n",
        "output_integer_encoded  = label_encoder.fit_transform(df['output'])\n",
        "df_res = output_integer_encoded\n",
        "df = df.loc[:,'s1':'output']"
      ],
      "execution_count": null,
      "outputs": []
    },
    {
      "cell_type": "code",
      "metadata": {
        "colab": {
          "base_uri": "https://localhost:8080/",
          "height": 297
        },
        "id": "dgx4jl8mYLdK",
        "outputId": "fc312d22-9ea0-45ff-ffd2-d542da5f082a"
      },
      "source": [
        "df.describe()"
      ],
      "execution_count": null,
      "outputs": [
        {
          "output_type": "execute_result",
          "data": {
            "text/html": [
              "<div>\n",
              "<style scoped>\n",
              "    .dataframe tbody tr th:only-of-type {\n",
              "        vertical-align: middle;\n",
              "    }\n",
              "\n",
              "    .dataframe tbody tr th {\n",
              "        vertical-align: top;\n",
              "    }\n",
              "\n",
              "    .dataframe thead th {\n",
              "        text-align: right;\n",
              "    }\n",
              "</style>\n",
              "<table border=\"1\" class=\"dataframe\">\n",
              "  <thead>\n",
              "    <tr style=\"text-align: right;\">\n",
              "      <th></th>\n",
              "      <th>s1</th>\n",
              "      <th>s2</th>\n",
              "      <th>s3</th>\n",
              "      <th>s4</th>\n",
              "      <th>s5</th>\n",
              "      <th>s6</th>\n",
              "      <th>s7</th>\n",
              "      <th>s8</th>\n",
              "      <th>output</th>\n",
              "    </tr>\n",
              "  </thead>\n",
              "  <tbody>\n",
              "    <tr>\n",
              "      <th>count</th>\n",
              "      <td>200.00000</td>\n",
              "      <td>200.000000</td>\n",
              "      <td>200.000000</td>\n",
              "      <td>200.000000</td>\n",
              "      <td>200.000000</td>\n",
              "      <td>200.000000</td>\n",
              "      <td>200.000000</td>\n",
              "      <td>200.000000</td>\n",
              "      <td>200.000000</td>\n",
              "    </tr>\n",
              "    <tr>\n",
              "      <th>mean</th>\n",
              "      <td>3.11000</td>\n",
              "      <td>7.840000</td>\n",
              "      <td>5.580000</td>\n",
              "      <td>3.635000</td>\n",
              "      <td>5.685000</td>\n",
              "      <td>4.925000</td>\n",
              "      <td>5.225000</td>\n",
              "      <td>17.225000</td>\n",
              "      <td>0.485000</td>\n",
              "    </tr>\n",
              "    <tr>\n",
              "      <th>std</th>\n",
              "      <td>1.91474</td>\n",
              "      <td>6.626762</td>\n",
              "      <td>5.059803</td>\n",
              "      <td>3.340294</td>\n",
              "      <td>3.719536</td>\n",
              "      <td>3.515847</td>\n",
              "      <td>3.302865</td>\n",
              "      <td>28.920518</td>\n",
              "      <td>0.501029</td>\n",
              "    </tr>\n",
              "    <tr>\n",
              "      <th>min</th>\n",
              "      <td>0.00000</td>\n",
              "      <td>0.000000</td>\n",
              "      <td>0.000000</td>\n",
              "      <td>0.000000</td>\n",
              "      <td>0.000000</td>\n",
              "      <td>0.000000</td>\n",
              "      <td>0.000000</td>\n",
              "      <td>0.000000</td>\n",
              "      <td>0.000000</td>\n",
              "    </tr>\n",
              "    <tr>\n",
              "      <th>25%</th>\n",
              "      <td>2.00000</td>\n",
              "      <td>3.000000</td>\n",
              "      <td>2.000000</td>\n",
              "      <td>2.000000</td>\n",
              "      <td>3.000000</td>\n",
              "      <td>2.000000</td>\n",
              "      <td>3.000000</td>\n",
              "      <td>2.000000</td>\n",
              "      <td>0.000000</td>\n",
              "    </tr>\n",
              "    <tr>\n",
              "      <th>50%</th>\n",
              "      <td>2.00000</td>\n",
              "      <td>6.000000</td>\n",
              "      <td>4.000000</td>\n",
              "      <td>2.000000</td>\n",
              "      <td>5.000000</td>\n",
              "      <td>4.000000</td>\n",
              "      <td>5.000000</td>\n",
              "      <td>10.000000</td>\n",
              "      <td>0.000000</td>\n",
              "    </tr>\n",
              "    <tr>\n",
              "      <th>75%</th>\n",
              "      <td>5.00000</td>\n",
              "      <td>11.000000</td>\n",
              "      <td>8.000000</td>\n",
              "      <td>4.000000</td>\n",
              "      <td>8.000000</td>\n",
              "      <td>7.000000</td>\n",
              "      <td>7.000000</td>\n",
              "      <td>21.000000</td>\n",
              "      <td>1.000000</td>\n",
              "    </tr>\n",
              "    <tr>\n",
              "      <th>max</th>\n",
              "      <td>8.00000</td>\n",
              "      <td>28.000000</td>\n",
              "      <td>28.000000</td>\n",
              "      <td>38.000000</td>\n",
              "      <td>17.000000</td>\n",
              "      <td>16.000000</td>\n",
              "      <td>17.000000</td>\n",
              "      <td>287.000000</td>\n",
              "      <td>1.000000</td>\n",
              "    </tr>\n",
              "  </tbody>\n",
              "</table>\n",
              "</div>"
            ],
            "text/plain": [
              "              s1          s2          s3  ...          s7          s8      output\n",
              "count  200.00000  200.000000  200.000000  ...  200.000000  200.000000  200.000000\n",
              "mean     3.11000    7.840000    5.580000  ...    5.225000   17.225000    0.485000\n",
              "std      1.91474    6.626762    5.059803  ...    3.302865   28.920518    0.501029\n",
              "min      0.00000    0.000000    0.000000  ...    0.000000    0.000000    0.000000\n",
              "25%      2.00000    3.000000    2.000000  ...    3.000000    2.000000    0.000000\n",
              "50%      2.00000    6.000000    4.000000  ...    5.000000   10.000000    0.000000\n",
              "75%      5.00000   11.000000    8.000000  ...    7.000000   21.000000    1.000000\n",
              "max      8.00000   28.000000   28.000000  ...   17.000000  287.000000    1.000000\n",
              "\n",
              "[8 rows x 9 columns]"
            ]
          },
          "metadata": {
            "tags": []
          },
          "execution_count": 20
        }
      ]
    },
    {
      "cell_type": "code",
      "metadata": {
        "id": "qgGcbYnUYLdL"
      },
      "source": [
        "import mlp_backprop_momentum as mlp\n",
        "import k_fold_cross_validation as cv"
      ],
      "execution_count": null,
      "outputs": []
    },
    {
      "cell_type": "code",
      "metadata": {
        "id": "IL0d0g3rYLdL"
      },
      "source": [
        "N_INITS = 10\n",
        "EPOCHS = 200\n",
        "N_NEURONS = [2, 8, 64, 128, 256, 512]\n",
        "LEARNING_RATE = 0.003\n",
        "MOMENTUM = 0.1\n",
        "dataset = df"
      ],
      "execution_count": null,
      "outputs": []
    },
    {
      "cell_type": "code",
      "metadata": {
        "colab": {
          "base_uri": "https://localhost:8080/"
        },
        "id": "TBpUhgEU6Bmh",
        "outputId": "6b603f02-f379-4154-e719-0bd1fc86059a"
      },
      "source": [
        "print(df.loc[:,:'output'])\n",
        "print(df_res)"
      ],
      "execution_count": null,
      "outputs": [
        {
          "output_type": "stream",
          "text": [
            "       s1  s2  s3  s4  s5  s6  s7  s8  output\n",
            "34276   3   3   3   4   5   5   4   8       1\n",
            "49136   2   5   1   2   1   1   2   0       1\n",
            "29088   3   7   5   2   2   2   5   2       1\n",
            "9940    3   4   2   2   4   3   4  48       0\n",
            "23674   1   3  22   2   4   3   5  48       0\n",
            "...    ..  ..  ..  ..  ..  ..  ..  ..     ...\n",
            "39665   1   2   1   2   1   1   0   2       0\n",
            "51864   2   4  10   5   7   6   8  10       1\n",
            "2767    6  25  12  10  11  10   6  23       1\n",
            "7632    2   4   3   3   4   3   4   0       1\n",
            "10919   6  16  10   4   9   8  10  55       1\n",
            "\n",
            "[200 rows x 9 columns]\n",
            "[1 1 1 0 0 1 1 0 1 0 0 0 0 1 1 1 0 1 0 0 0 1 1 1 1 1 0 1 0 1 0 1 1 1 1 0 1\n",
            " 0 1 1 0 1 1 0 1 0 1 0 1 0 0 0 0 1 0 1 0 0 0 0 0 1 1 1 1 0 0 1 1 0 1 1 1 1\n",
            " 0 0 1 1 0 0 1 0 0 1 0 0 1 0 0 1 1 0 0 1 1 0 0 0 1 0 1 0 0 1 1 1 0 1 1 1 0\n",
            " 0 0 1 1 0 0 1 0 0 1 1 0 0 0 0 1 0 0 1 1 0 0 1 1 0 1 1 0 0 0 0 0 1 1 0 1 1\n",
            " 1 0 0 0 1 0 0 0 1 1 1 1 1 0 0 0 0 0 0 1 1 0 0 1 0 1 0 0 0 1 1 0 0 0 1 1 0\n",
            " 0 0 0 0 0 1 1 0 1 1 0 1 1 1 1]\n"
          ],
          "name": "stdout"
        }
      ]
    },
    {
      "cell_type": "code",
      "metadata": {
        "colab": {
          "base_uri": "https://localhost:8080/"
        },
        "id": "vW70mqIlYLdL",
        "outputId": "a6ba2ccd-d451-4a1a-8ade-a4453f88230f"
      },
      "source": [
        "MSE = np.zeros((len(N_NEURONS), N_INITS, EPOCHS))\n",
        "\n",
        "for i_h, h in enumerate(N_NEURONS):                                     # looping over the number of hidden neurons\n",
        "    print('Testing', h, 'neurons...')\n",
        "    nn = mlp.MLP([8,h,1], 'tanh')\n",
        "    for i in np.arange(N_INITS):                                        # looping over the initializations\n",
        "        nn.init_weights()\n",
        "        \n",
        "        \n",
        "        MSE[i_h, i, :] = nn.fit((df.loc[:,'s1':'s8'], df_res),\n",
        "                                learning_rate=LEARNING_RATE,\n",
        "                                momentum=MOMENTUM,\n",
        "                                epochs=EPOCHS)"
      ],
      "execution_count": null,
      "outputs": [
        {
          "output_type": "stream",
          "text": [
            "Testing 2 neurons...\n",
            "Testing 8 neurons...\n",
            "Testing 64 neurons...\n",
            "Testing 128 neurons...\n",
            "Testing 256 neurons...\n",
            "Testing 512 neurons...\n"
          ],
          "name": "stdout"
        }
      ]
    },
    {
      "cell_type": "code",
      "metadata": {
        "id": "AJwfs7J5YLdM",
        "colab": {
          "base_uri": "https://localhost:8080/",
          "height": 297
        },
        "outputId": "cf8872dc-9240-4ad3-bf8c-9ed4e0e53cb7"
      },
      "source": [
        "pl.figure(figsize=(15,4))\n",
        "p_count = 0\n",
        "for n in np.arange(MSE.shape[0]):\n",
        "    pl.subplot(1, MSE.shape[0], n+1)\n",
        "    for i in np.arange(MSE.shape[1]):\n",
        "        pl.plot(MSE[n,i,:], c='b')\n",
        "    pl.ylim(0,1)\n",
        "    pl.xlabel('Epochs')\n",
        "    pl.ylabel('MSE')\n",
        "    pl.title(str(N_NEURONS[n]) + ' neurons')\n",
        "    pl.grid()\n",
        "pl.tight_layout()"
      ],
      "execution_count": null,
      "outputs": [
        {
          "output_type": "display_data",
          "data": {
            "image/png": "[encoded data removed]",
            "text/plain": [
              "<Figure size 1080x288 with 6 Axes>"
            ]
          },
          "metadata": {
            "tags": [],
            "needs_background": "light"
          }
        }
      ]
    },
    {
      "cell_type": "code",
      "metadata": {
        "id": "Mff4XBQPYLdM"
      },
      "source": [
        "EPOCHS = 3\n",
        "K = 5\n",
        "N_TESTS = 10\n",
        "N_NEURONS = [2, 4, 6, 8, 10, 15, 20, 25, 30]"
      ],
      "execution_count": null,
      "outputs": []
    },
    {
      "cell_type": "markdown",
      "metadata": {
        "id": "AXOza6ZEClI0"
      },
      "source": [
        "ALL OF UNDER THIS HAVE TO BE CHECKED ALL OF UNDER THIS HAVE TO BE CHECKED ALL OF UNDER THIS HAVE TO BE CHECKED ALL OF UNDER THIS HAVE TO BE CHECKED ALL OF UNDER THIS HAVE TO BE CHECKED ALL OF UNDER THIS HAVE TO BE CHECKED ALL OF UNDER THIS HAVE TO BE CHECKED ALL OF UNDER THIS HAVE TO BE CHECKED ALL OF UNDER THIS HAVE TO BE CHECKED ALL OF UNDER THIS HAVE TO BE CHECKED ALL OF UNDER THIS HAVE TO BE CHECKED ALL OF UNDER THIS HAVE TO BE CHECKED ALL OF UNDER THIS HAVE TO BE CHECKED ALL OF UNDER THIS HAVE TO BE CHECKED ALL OF UNDER THIS HAVE TO BE CHECKED ALL OF UNDER THIS HAVE TO BE CHECKED ALL OF UNDER THIS HAVE TO BE CHECKED ALL OF UNDER THIS HAVE TO BE CHECKED ALL OF UNDER THIS HAVE TO BE CHECKED ALL OF UNDER THIS HAVE TO BE CHECKED "
      ]
    },
    {
      "cell_type": "code",
      "metadata": {
        "id": "_YIE5bTzYLdO",
        "colab": {
          "base_uri": "https://localhost:8080/",
          "height": 231
        },
        "outputId": "b9b3ca62-50cb-4f40-fa60-b075651066b2"
      },
      "source": [
        "MSE_train_mean = np.mean(MSE_train, axis=2)\n",
        "MSE_test_mean = np.mean(MSE_test, axis=2)\n",
        "MSE_train_sd = np.std(MSE_train, axis=2)\n",
        "MSE_test_sd = np.std(MSE_test, axis=2)\n",
        "\n",
        "v_min = min(np.min(MSE_train_mean), np.min(MSE_test_mean))\n",
        "v_max = max(np.max(MSE_train_mean), np.max(MSE_test_mean))\n",
        "\n",
        "n_rows = int(np.ceil(len(N_NEURONS)/3.0))\n",
        "pl.figure(figsize=(12,3*n_rows))\n",
        "for i_n, n in enumerate(N_NEURONS):\n",
        "    pl.subplot(n_rows, min(3, len(N_NEURONS)), i_n+1)\n",
        "    pl.fill_between(np.arange(EPOCHS), MSE_train_mean[i_n,:], MSE_train_mean[i_n,:]+MSE_train_sd[i_n,:], facecolor='blue', alpha=0.5, label='Train')\n",
        "    pl.fill_between(np.arange(EPOCHS), MSE_train_mean[i_n,:], MSE_train_mean[i_n,:]-MSE_train_sd[i_n,:], facecolor='blue', alpha=0.5)\n",
        "    pl.fill_between(np.arange(EPOCHS), MSE_test_mean[i_n,:], MSE_test_mean[i_n,:]+MSE_test_sd[i_n,:], facecolor='red', alpha=0.5, label='Test')\n",
        "    pl.fill_between(np.arange(EPOCHS), MSE_test_mean[i_n,:], MSE_test_mean[i_n,:]-MSE_test_sd[i_n,:], facecolor='red', alpha=0.5)\n",
        "    pl.ylim(0.95*v_min,0.5*v_max)\n",
        "    pl.ylabel('MSE')\n",
        "    pl.xlabel('Number of epochs')\n",
        "    pl.title(str(K)+'-fold CV with '+str(n)+' hidden neurons')\n",
        "    pl.legend()\n",
        "    pl.grid()\n",
        "pl.tight_layout()"
      ],
      "execution_count": null,
      "outputs": [
        {
          "output_type": "error",
          "ename": "NameError",
          "evalue": "ignored",
          "traceback": [
            "\u001b[0;31m---------------------------------------------------------------------------\u001b[0m",
            "\u001b[0;31mNameError\u001b[0m                                 Traceback (most recent call last)",
            "\u001b[0;32m<ipython-input-16-435b32061fb1>\u001b[0m in \u001b[0;36m<module>\u001b[0;34m()\u001b[0m\n\u001b[0;32m----> 1\u001b[0;31m \u001b[0mMSE_train_mean\u001b[0m \u001b[0;34m=\u001b[0m \u001b[0mnp\u001b[0m\u001b[0;34m.\u001b[0m\u001b[0mmean\u001b[0m\u001b[0;34m(\u001b[0m\u001b[0mMSE_train\u001b[0m\u001b[0;34m,\u001b[0m \u001b[0maxis\u001b[0m\u001b[0;34m=\u001b[0m\u001b[0;36m2\u001b[0m\u001b[0;34m)\u001b[0m\u001b[0;34m\u001b[0m\u001b[0;34m\u001b[0m\u001b[0m\n\u001b[0m\u001b[1;32m      2\u001b[0m \u001b[0mMSE_test_mean\u001b[0m \u001b[0;34m=\u001b[0m \u001b[0mnp\u001b[0m\u001b[0;34m.\u001b[0m\u001b[0mmean\u001b[0m\u001b[0;34m(\u001b[0m\u001b[0mMSE_test\u001b[0m\u001b[0;34m,\u001b[0m \u001b[0maxis\u001b[0m\u001b[0;34m=\u001b[0m\u001b[0;36m2\u001b[0m\u001b[0;34m)\u001b[0m\u001b[0;34m\u001b[0m\u001b[0;34m\u001b[0m\u001b[0m\n\u001b[1;32m      3\u001b[0m \u001b[0mMSE_train_sd\u001b[0m \u001b[0;34m=\u001b[0m \u001b[0mnp\u001b[0m\u001b[0;34m.\u001b[0m\u001b[0mstd\u001b[0m\u001b[0;34m(\u001b[0m\u001b[0mMSE_train\u001b[0m\u001b[0;34m,\u001b[0m \u001b[0maxis\u001b[0m\u001b[0;34m=\u001b[0m\u001b[0;36m2\u001b[0m\u001b[0;34m)\u001b[0m\u001b[0;34m\u001b[0m\u001b[0;34m\u001b[0m\u001b[0m\n\u001b[1;32m      4\u001b[0m \u001b[0mMSE_test_sd\u001b[0m \u001b[0;34m=\u001b[0m \u001b[0mnp\u001b[0m\u001b[0;34m.\u001b[0m\u001b[0mstd\u001b[0m\u001b[0;34m(\u001b[0m\u001b[0mMSE_test\u001b[0m\u001b[0;34m,\u001b[0m \u001b[0maxis\u001b[0m\u001b[0;34m=\u001b[0m\u001b[0;36m2\u001b[0m\u001b[0;34m)\u001b[0m\u001b[0;34m\u001b[0m\u001b[0;34m\u001b[0m\u001b[0m\n\u001b[1;32m      5\u001b[0m \u001b[0;34m\u001b[0m\u001b[0m\n",
            "\u001b[0;31mNameError\u001b[0m: name 'MSE_train' is not defined"
          ]
        }
      ]
    },
    {
      "cell_type": "code",
      "metadata": {
        "id": "UGk3OuCAYLdP",
        "colab": {
          "base_uri": "https://localhost:8080/",
          "height": 585
        },
        "outputId": "9cab3094-f1f7-4500-8270-5654df4a3d17"
      },
      "source": [
        "pl.figure(figsize=(15,8))\n",
        "pl.subplot(2,1,1)\n",
        "pl.imshow(MSE_train_mean, vmin=np.min(MSE_train_mean), vmax=np.percentile(MSE_train_mean, 90), aspect=3, interpolation='nearest')\n",
        "pl.yticks(np.arange(len(N_NEURONS)), N_NEURONS)\n",
        "pl.xlabel('Epochs')\n",
        "pl.ylabel('Number of hidden Neurons')\n",
        "pl.title('Training')\n",
        "pl.colorbar()\n",
        "pl.subplot(2,1,2)\n",
        "pl.imshow(MSE_test_mean, vmin=np.min(MSE_test_mean), vmax=np.percentile(MSE_test_mean, 90), aspect=3, interpolation='nearest')\n",
        "pl.yticks(np.arange(len(N_NEURONS)), N_NEURONS)\n",
        "pl.xlabel('Epochs')\n",
        "pl.ylabel('Number of hidden Neurons')\n",
        "pl.title('Test')\n",
        "pl.colorbar()\n",
        "pl.tight_layout()"
      ],
      "execution_count": null,
      "outputs": [
        {
          "output_type": "display_data",
          "data": {
            "image/png": "[encoded data removed]",
            "text/plain": [
              "<Figure size 1080x576 with 4 Axes>"
            ]
          },
          "metadata": {
            "tags": [],
            "needs_background": "light"
          }
        }
      ]
    },
    {
      "cell_type": "code",
      "metadata": {
        "id": "1Cx6in_lYLdQ"
      },
      "source": [
        "## Final model"
      ],
      "execution_count": null,
      "outputs": []
    },
    {
      "cell_type": "code",
      "metadata": {
        "id": "bWLf4z30YLdQ"
      },
      "source": [
        "nn = mlp.MLP([8,10,1], 'tanh')"
      ],
      "execution_count": null,
      "outputs": []
    },
    {
      "cell_type": "code",
      "metadata": {
        "id": "o7JumKYrYLdQ",
        "colab": {
          "base_uri": "https://localhost:8080/",
          "height": 459
        },
        "outputId": "7d2eabc6-6c49-4362-d798-22669d9482e8"
      },
      "source": [
        "MSE_train, MSE_test, conf_mat = cv.k_fold_cross_validation(nn,\n",
        "                                                          datatest,\n",
        "                                                          k=K,\n",
        "                                                          learning_rate=LEARNING_RATE,\n",
        "                                                          momentum=MOMENTUM,\n",
        "                                                          epochs=100,\n",
        "                                                          threshold=0.0)"
      ],
      "execution_count": null,
      "outputs": [
        {
          "output_type": "error",
          "ename": "TypeError",
          "evalue": "ignored",
          "traceback": [
            "\u001b[0;31m---------------------------------------------------------------------------\u001b[0m",
            "\u001b[0;31mTypeError\u001b[0m                                 Traceback (most recent call last)",
            "\u001b[0;32m<ipython-input-40-d103582bf31a>\u001b[0m in \u001b[0;36m<module>\u001b[0;34m()\u001b[0m\n\u001b[1;32m      5\u001b[0m                                                           \u001b[0mmomentum\u001b[0m\u001b[0;34m=\u001b[0m\u001b[0mMOMENTUM\u001b[0m\u001b[0;34m,\u001b[0m\u001b[0;34m\u001b[0m\u001b[0;34m\u001b[0m\u001b[0m\n\u001b[1;32m      6\u001b[0m                                                           \u001b[0mepochs\u001b[0m\u001b[0;34m=\u001b[0m\u001b[0;36m100\u001b[0m\u001b[0;34m,\u001b[0m\u001b[0;34m\u001b[0m\u001b[0;34m\u001b[0m\u001b[0m\n\u001b[0;32m----> 7\u001b[0;31m                                                           threshold=0.0)\n\u001b[0m",
            "\u001b[0;32m/content/k_fold_cross_validation.py\u001b[0m in \u001b[0;36mk_fold_cross_validation\u001b[0;34m(mlp, dataset, k, learning_rate, momentum, epochs, threshold)\u001b[0m\n\u001b[1;32m     46\u001b[0m     \u001b[0mMSE_test_mean\u001b[0m \u001b[0;34m=\u001b[0m \u001b[0;36m0.0\u001b[0m\u001b[0;34m\u001b[0m\u001b[0;34m\u001b[0m\u001b[0m\n\u001b[1;32m     47\u001b[0m \u001b[0;34m\u001b[0m\u001b[0m\n\u001b[0;32m---> 48\u001b[0;31m     \u001b[0mparts\u001b[0m \u001b[0;34m=\u001b[0m \u001b[0msplit_dataset\u001b[0m\u001b[0;34m(\u001b[0m\u001b[0mdataset\u001b[0m\u001b[0;34m,\u001b[0m \u001b[0mk\u001b[0m\u001b[0;34m)\u001b[0m\u001b[0;34m\u001b[0m\u001b[0;34m\u001b[0m\u001b[0m\n\u001b[0m\u001b[1;32m     49\u001b[0m     \u001b[0mtarget_test\u001b[0m \u001b[0;34m=\u001b[0m \u001b[0;34m[\u001b[0m\u001b[0;34m]\u001b[0m\u001b[0;34m\u001b[0m\u001b[0;34m\u001b[0m\u001b[0m\n\u001b[1;32m     50\u001b[0m     \u001b[0moutput_test\u001b[0m \u001b[0;34m=\u001b[0m \u001b[0;34m[\u001b[0m\u001b[0;34m]\u001b[0m\u001b[0;34m\u001b[0m\u001b[0;34m\u001b[0m\u001b[0m\n",
            "\u001b[0;32m/content/k_fold_cross_validation.py\u001b[0m in \u001b[0;36msplit_dataset\u001b[0;34m(dataset, n_parts)\u001b[0m\n\u001b[1;32m     10\u001b[0m     \u001b[0;32mfor\u001b[0m \u001b[0mp\u001b[0m \u001b[0;32min\u001b[0m \u001b[0mnp\u001b[0m\u001b[0;34m.\u001b[0m\u001b[0marange\u001b[0m\u001b[0;34m(\u001b[0m\u001b[0mn_parts\u001b[0m\u001b[0;34m)\u001b[0m\u001b[0;34m:\u001b[0m\u001b[0;34m\u001b[0m\u001b[0;34m\u001b[0m\u001b[0m\n\u001b[1;32m     11\u001b[0m         \u001b[0mcurrent_end\u001b[0m \u001b[0;34m=\u001b[0m \u001b[0mcurrent_start\u001b[0m \u001b[0;34m+\u001b[0m \u001b[0mint\u001b[0m\u001b[0;34m(\u001b[0m\u001b[0mnp\u001b[0m\u001b[0;34m.\u001b[0m\u001b[0mfloor\u001b[0m\u001b[0;34m(\u001b[0m\u001b[0mn_rows\u001b[0m \u001b[0;34m/\u001b[0m \u001b[0;34m(\u001b[0m\u001b[0mn_parts\u001b[0m\u001b[0;34m-\u001b[0m\u001b[0mp\u001b[0m\u001b[0;34m)\u001b[0m\u001b[0;34m)\u001b[0m\u001b[0;34m)\u001b[0m\u001b[0;34m\u001b[0m\u001b[0;34m\u001b[0m\u001b[0m\n\u001b[0;32m---> 12\u001b[0;31m         \u001b[0mparts\u001b[0m\u001b[0;34m.\u001b[0m\u001b[0mappend\u001b[0m\u001b[0;34m(\u001b[0m\u001b[0mdataset\u001b[0m\u001b[0;34m[\u001b[0m\u001b[0mindex_all\u001b[0m\u001b[0;34m[\u001b[0m\u001b[0mcurrent_start\u001b[0m\u001b[0;34m:\u001b[0m\u001b[0mcurrent_end\u001b[0m\u001b[0;34m]\u001b[0m\u001b[0;34m,\u001b[0m\u001b[0;34m:\u001b[0m\u001b[0;34m]\u001b[0m\u001b[0;34m)\u001b[0m\u001b[0;34m\u001b[0m\u001b[0;34m\u001b[0m\u001b[0m\n\u001b[0m\u001b[1;32m     13\u001b[0m         \u001b[0mn_rows\u001b[0m \u001b[0;34m-=\u001b[0m \u001b[0mcurrent_end\u001b[0m \u001b[0;34m-\u001b[0m \u001b[0mcurrent_start\u001b[0m\u001b[0;34m\u001b[0m\u001b[0;34m\u001b[0m\u001b[0m\n\u001b[1;32m     14\u001b[0m         \u001b[0mcurrent_start\u001b[0m \u001b[0;34m=\u001b[0m \u001b[0mcurrent_end\u001b[0m\u001b[0;34m\u001b[0m\u001b[0;34m\u001b[0m\u001b[0m\n",
            "\u001b[0;32m/usr/local/lib/python3.7/dist-packages/pandas/core/frame.py\u001b[0m in \u001b[0;36m__getitem__\u001b[0;34m(self, key)\u001b[0m\n\u001b[1;32m   2904\u001b[0m             \u001b[0;32mif\u001b[0m \u001b[0mself\u001b[0m\u001b[0;34m.\u001b[0m\u001b[0mcolumns\u001b[0m\u001b[0;34m.\u001b[0m\u001b[0mnlevels\u001b[0m \u001b[0;34m>\u001b[0m \u001b[0;36m1\u001b[0m\u001b[0;34m:\u001b[0m\u001b[0;34m\u001b[0m\u001b[0;34m\u001b[0m\u001b[0m\n\u001b[1;32m   2905\u001b[0m                 \u001b[0;32mreturn\u001b[0m \u001b[0mself\u001b[0m\u001b[0;34m.\u001b[0m\u001b[0m_getitem_multilevel\u001b[0m\u001b[0;34m(\u001b[0m\u001b[0mkey\u001b[0m\u001b[0;34m)\u001b[0m\u001b[0;34m\u001b[0m\u001b[0;34m\u001b[0m\u001b[0m\n\u001b[0;32m-> 2906\u001b[0;31m             \u001b[0mindexer\u001b[0m \u001b[0;34m=\u001b[0m \u001b[0mself\u001b[0m\u001b[0;34m.\u001b[0m\u001b[0mcolumns\u001b[0m\u001b[0;34m.\u001b[0m\u001b[0mget_loc\u001b[0m\u001b[0;34m(\u001b[0m\u001b[0mkey\u001b[0m\u001b[0;34m)\u001b[0m\u001b[0;34m\u001b[0m\u001b[0;34m\u001b[0m\u001b[0m\n\u001b[0m\u001b[1;32m   2907\u001b[0m             \u001b[0;32mif\u001b[0m \u001b[0mis_integer\u001b[0m\u001b[0;34m(\u001b[0m\u001b[0mindexer\u001b[0m\u001b[0;34m)\u001b[0m\u001b[0;34m:\u001b[0m\u001b[0;34m\u001b[0m\u001b[0;34m\u001b[0m\u001b[0m\n\u001b[1;32m   2908\u001b[0m                 \u001b[0mindexer\u001b[0m \u001b[0;34m=\u001b[0m \u001b[0;34m[\u001b[0m\u001b[0mindexer\u001b[0m\u001b[0;34m]\u001b[0m\u001b[0;34m\u001b[0m\u001b[0;34m\u001b[0m\u001b[0m\n",
            "\u001b[0;32m/usr/local/lib/python3.7/dist-packages/pandas/core/indexes/base.py\u001b[0m in \u001b[0;36mget_loc\u001b[0;34m(self, key, method, tolerance)\u001b[0m\n\u001b[1;32m   2896\u001b[0m             \u001b[0mcasted_key\u001b[0m \u001b[0;34m=\u001b[0m \u001b[0mself\u001b[0m\u001b[0;34m.\u001b[0m\u001b[0m_maybe_cast_indexer\u001b[0m\u001b[0;34m(\u001b[0m\u001b[0mkey\u001b[0m\u001b[0;34m)\u001b[0m\u001b[0;34m\u001b[0m\u001b[0;34m\u001b[0m\u001b[0m\n\u001b[1;32m   2897\u001b[0m             \u001b[0;32mtry\u001b[0m\u001b[0;34m:\u001b[0m\u001b[0;34m\u001b[0m\u001b[0;34m\u001b[0m\u001b[0m\n\u001b[0;32m-> 2898\u001b[0;31m                 \u001b[0;32mreturn\u001b[0m \u001b[0mself\u001b[0m\u001b[0;34m.\u001b[0m\u001b[0m_engine\u001b[0m\u001b[0;34m.\u001b[0m\u001b[0mget_loc\u001b[0m\u001b[0;34m(\u001b[0m\u001b[0mcasted_key\u001b[0m\u001b[0;34m)\u001b[0m\u001b[0;34m\u001b[0m\u001b[0;34m\u001b[0m\u001b[0m\n\u001b[0m\u001b[1;32m   2899\u001b[0m             \u001b[0;32mexcept\u001b[0m \u001b[0mKeyError\u001b[0m \u001b[0;32mas\u001b[0m \u001b[0merr\u001b[0m\u001b[0;34m:\u001b[0m\u001b[0;34m\u001b[0m\u001b[0;34m\u001b[0m\u001b[0m\n\u001b[1;32m   2900\u001b[0m                 \u001b[0;32mraise\u001b[0m \u001b[0mKeyError\u001b[0m\u001b[0;34m(\u001b[0m\u001b[0mkey\u001b[0m\u001b[0;34m)\u001b[0m \u001b[0;32mfrom\u001b[0m \u001b[0merr\u001b[0m\u001b[0;34m\u001b[0m\u001b[0;34m\u001b[0m\u001b[0m\n",
            "\u001b[0;32mpandas/_libs/index.pyx\u001b[0m in \u001b[0;36mpandas._libs.index.IndexEngine.get_loc\u001b[0;34m()\u001b[0m\n",
            "\u001b[0;32mpandas/_libs/index.pyx\u001b[0m in \u001b[0;36mpandas._libs.index.IndexEngine.get_loc\u001b[0;34m()\u001b[0m\n",
            "\u001b[0;31mTypeError\u001b[0m: '(array([ 96,  81,  83, 119, 146,  40,   2,  85, 106, 179, 122,  77, 157,\n       149, 181,  51,  27,  47,   8, 155,  32,  42,  52,  41,  67,  62,\n        66,  50,  72, 173,  76,  48,  55,  79, 100, 193, 153, 102, 188,\n       147]), slice(None, None, None))' is an invalid key"
          ]
        }
      ]
    },
    {
      "cell_type": "code",
      "metadata": {
        "id": "L5eiZa6YYLdQ"
      },
      "source": [
        "print('MSE training: ', MSE_train)\n",
        "print('MSE test: ', MSE_test)\n",
        "print('Confusion matrix:')\n",
        "print(conf_mat)"
      ],
      "execution_count": null,
      "outputs": []
    },
    {
      "cell_type": "code",
      "metadata": {
        "id": "yZSrfH0LYLdR"
      },
      "source": [
        ""
      ],
      "execution_count": null,
      "outputs": []
    }
  ]
}